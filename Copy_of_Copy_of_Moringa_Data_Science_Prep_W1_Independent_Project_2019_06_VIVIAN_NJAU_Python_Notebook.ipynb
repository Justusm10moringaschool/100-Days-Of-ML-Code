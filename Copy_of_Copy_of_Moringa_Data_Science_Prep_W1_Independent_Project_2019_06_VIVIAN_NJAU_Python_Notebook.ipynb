{
  "nbformat": 4,
  "nbformat_minor": 0,
  "metadata": {
    "colab": {
      "name": "Copy of Copy of Moringa_Data_Science_Prep_W1_Independent_Project_2019_06_VIVIAN_NJAU_Python_Notebook",
      "provenance": [],
      "include_colab_link": true
    },
    "kernelspec": {
      "name": "python3",
      "display_name": "Python 3"
    }
  },
  "cells": [
    {
      "cell_type": "markdown",
      "metadata": {
        "id": "view-in-github",
        "colab_type": "text"
      },
      "source": [
        "<a href=\"https://colab.research.google.com/github/Justusm10moringaschool/100-Days-Of-ML-Code/blob/master/Copy_of_Copy_of_Moringa_Data_Science_Prep_W1_Independent_Project_2019_06_VIVIAN_NJAU_Python_Notebook.ipynb\" target=\"_parent\"><img src=\"https://colab.research.google.com/assets/colab-badge.svg\" alt=\"Open In Colab\"/></a>"
      ]
    },
    {
      "cell_type": "code",
      "metadata": {
        "id": "KAT1A-SK_bCk",
        "outputId": "5861fead-26fb-4667-a604-29639604f731",
        "colab": {
          "base_uri": "https://localhost:8080/",
          "height": 86
        }
      },
      "source": [
        "#converting pounds to kgs\n",
        "x = float(input(\"Enter the first value in pounds \"))\n",
        "y = float(input(\"Enter the second value in pounds \"))\n",
        "\n",
        "#converting pounds to kgs\n",
        "a = x*0.4535922\n",
        "b = y*0.4535922\n",
        "\n",
        "print (str(x) + \"pounds in kgs is \" + str(a) )\n",
        "print (str(y) + \"pounds in kgs is \" + str(b) )\n",
        "\n"
      ],
      "execution_count": null,
      "outputs": [
        {
          "output_type": "stream",
          "text": [
            "Enter the first value in pounds 2.2\n",
            "Enter the second value in pounds 22\n",
            "2.2pounds in kgs is 0.9979028400000001\n",
            "22.0pounds in kgs is 9.9790284\n"
          ],
          "name": "stdout"
        }
      ]
    },
    {
      "cell_type": "code",
      "metadata": {
        "id": "dusjOaTtBHcN",
        "outputId": "778f8a14-9705-4523-8c70-b2117104dc55",
        "colab": {
          "base_uri": "https://localhost:8080/",
          "height": 34
        }
      },
      "source": [
        "#sum of the 2 values\n",
        "z = x + y\n",
        "print (\" The sum is \" + str(z))\n"
      ],
      "execution_count": null,
      "outputs": [
        {
          "output_type": "stream",
          "text": [
            " The sum is 24.2\n"
          ],
          "name": "stdout"
        }
      ]
    },
    {
      "cell_type": "code",
      "metadata": {
        "id": "moVRwu_AE2bg",
        "outputId": "44d754f4-c59c-43e4-a5ee-a2a91706cfc0",
        "colab": {
          "base_uri": "https://localhost:8080/",
          "height": 34
        }
      },
      "source": [
        "#average of the 2 values\n",
        "c = (x + y)/2\n",
        "print (\" The average is \" + str(c))\n"
      ],
      "execution_count": null,
      "outputs": [
        {
          "output_type": "stream",
          "text": [
            " The average is 12.1\n"
          ],
          "name": "stdout"
        }
      ]
    },
    {
      "cell_type": "code",
      "metadata": {
        "id": "G4iec9MgFB5i",
        "outputId": "4871c897-c886-48e6-de43-b58c78666c23",
        "colab": {
          "base_uri": "https://localhost:8080/",
          "height": 51
        }
      },
      "source": [
        "#difference between the two values\n",
        "d = x - y\n",
        "print (\" The difference between \" + str(x) + \" and \" + str(y) + \" is \" + str(d))\n",
        "g = y - x\n",
        "print (\" The difference between \" + str(y) + \" and \" + str(x) + \" is \" + str(g))\n"
      ],
      "execution_count": null,
      "outputs": [
        {
          "output_type": "stream",
          "text": [
            " The difference between 2.2 and 22.0 is -19.8\n",
            " The difference between 22.0 and 2.2 is 19.8\n"
          ],
          "name": "stdout"
        }
      ]
    },
    {
      "cell_type": "code",
      "metadata": {
        "id": "Wsy90jSbFOUb",
        "outputId": "b655f652-85ac-4850-f7af-e7859176ea29",
        "colab": {
          "base_uri": "https://localhost:8080/",
          "height": 34
        }
      },
      "source": [
        "#quotient of the 2 values\n",
        "e = x / y\n",
        "print (\" The quotient is \" + str(e))\n"
      ],
      "execution_count": null,
      "outputs": [
        {
          "output_type": "stream",
          "text": [
            " The quotient is 0.6666666666666666\n"
          ],
          "name": "stdout"
        }
      ]
    },
    {
      "cell_type": "code",
      "metadata": {
        "id": "ScCy6CsyFwrU",
        "outputId": "0bc7b037-e8f9-449e-e967-ff9b72819534",
        "colab": {
          "base_uri": "https://localhost:8080/",
          "height": 51
        }
      },
      "source": [
        "#even or odd!\n",
        "if x % 2 == 0:\n",
        "  print (\" The number\" + str(x) + \" is even\")\n",
        "elif x % 2 != 0:\n",
        "  print (\" The number \" + str(x) + \" is odd\")\n",
        "if y % 2 == 0:\n",
        "  print (\" The number\" + str(y) + \" is even\")\n",
        "elif y % 2 != 0:\n",
        "  print (\" The number \" + str(y) + \" is odd\")\n",
        "\n"
      ],
      "execution_count": null,
      "outputs": [
        {
          "output_type": "stream",
          "text": [
            " The number 2.2 is odd\n",
            " The number22.0 is even\n"
          ],
          "name": "stdout"
        }
      ]
    },
    {
      "cell_type": "code",
      "metadata": {
        "id": "fkzlBKFeGbQe"
      },
      "source": [
        ""
      ],
      "execution_count": null,
      "outputs": []
    }
  ]
}